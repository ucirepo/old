{
 "cells": [
  {
   "cell_type": "code",
   "execution_count": null,
   "id": "f575607b-d070-4ec9-91c0-3ecfbbb1e199",
   "metadata": {},
   "outputs": [],
   "source": [
    "import pandas as pd\n",
    "import numpy as np\n",
    "import seaborn as sns\n",
    "import matplotlib.pyplot as plt\n",
    "from sklearn.linear_model import LinearRegression\n",
    "from sklearn.model_selection import train_test_split\n",
    "from sklearn.metrics import r2_score,mean_squared_error,mean_absolute_error"
   ]
  },
  {
   "cell_type": "code",
   "execution_count": null,
   "id": "2cefdc76-09b1-43dd-a45b-ab2bf733be29",
   "metadata": {},
   "outputs": [],
   "source": [
    "data=pd.read_csv('advertising.csv')"
   ]
  },
  {
   "cell_type": "code",
   "execution_count": null,
   "id": "107c814e-7c88-45f5-aa3d-6285630dde14",
   "metadata": {},
   "outputs": [],
   "source": [
    "data.info()"
   ]
  },
  {
   "cell_type": "code",
   "execution_count": null,
   "id": "a5fbc331-cb0a-470d-b554-21e8d94c54f4",
   "metadata": {},
   "outputs": [],
   "source": [
    "sns.pairplot(data)\n",
    "plt.tight_layout()\n",
    "plt.show()"
   ]
  },
  {
   "cell_type": "code",
   "execution_count": null,
   "id": "a160121d-dfdf-4dae-94c1-c23b9d71db10",
   "metadata": {},
   "outputs": [],
   "source": [
    "sns.heatmap(data.corr(),annot=True,cmap='coolwarm',linewidth=2)\n",
    "plt.show()"
   ]
  },
  {
   "cell_type": "code",
   "execution_count": null,
   "id": "06aaba92-8947-445c-8a25-90a1ab7a2409",
   "metadata": {},
   "outputs": [],
   "source": [
    "fig,ax=plt.subplots(1,3,figsize=(18,8))\n",
    "sns.scatterplot(data=data,x='TV',y='Sales',ax=ax[0])\n",
    "ax[0].set_title('TV Vs. Sales')\n",
    "sns.scatterplot(data=data,x='Radio',y='Sales',ax=ax[1])\n",
    "ax[1].set_title('Radio Vs. Sales')\n",
    "sns.scatterplot(data=data,x='Newspaper',y='Sales',ax=ax[2])\n",
    "ax[2].set_title('Newspaper Vs. Sales')\n",
    "plt.show()"
   ]
  },
  {
   "cell_type": "code",
   "execution_count": null,
   "id": "c13722ec-be41-4460-99ee-ac2a99484663",
   "metadata": {},
   "outputs": [],
   "source": [
    "sns.boxplot(data)\n",
    "plt.show()"
   ]
  },
  {
   "cell_type": "code",
   "execution_count": null,
   "id": "d259dfaf-9011-4332-91e1-0db4c7d480f2",
   "metadata": {},
   "outputs": [],
   "source": [
    "X=data.drop('Sales',axis=1)\n",
    "Y=data['Sales']"
   ]
  },
  {
   "cell_type": "code",
   "execution_count": null,
   "id": "187ea7cd-0098-449b-a497-2306520dcf89",
   "metadata": {},
   "outputs": [],
   "source": [
    "!pip install statsmodels"
   ]
  },
  {
   "cell_type": "code",
   "execution_count": null,
   "id": "3154e05d-754b-4c6f-b43f-ae8c1339d58a",
   "metadata": {},
   "outputs": [],
   "source": [
    "print(X.shape)\n",
    "print(Y.shape)"
   ]
  },
  {
   "cell_type": "code",
   "execution_count": null,
   "id": "c1bd3f48-15fb-4c16-a485-d1129e6eed22",
   "metadata": {},
   "outputs": [],
   "source": [
    "import statsmodels.api as sm\n",
    "X_const=sm.add_constant(X) \n",
    "model=sm.OLS(Y,X_const).fit()\n",
    "predictions=model.predict(X_const)\n",
    "residuals=model.resid\n",
    "model.summary()"
   ]
  },
  {
   "cell_type": "markdown",
   "id": "c4162dc6-002a-4268-8436-af970b3765f9",
   "metadata": {},
   "source": [
    "R-Squared - 90.3% of variance in sales is explained by my model very clearly\n",
    "Adj R-Squared - 90.1% - no. of predictors with different sample sizes can be effectively predicted and also it is used check the model is overfitting or not\n",
    "F-statistics :605.4 and p-value:<0.05 statistcally significant model\n",
    "Sales=4.6251+0.0544TV+0.1070Radio+0.0003*Newspaper \n",
    "The t-statistics should be higher and p-vale<0.05 to choose the feature ie. the feature is statistically significant to predict sales Therefore TV and Radio are statistically significant. Newspaper is not statistically significant \n",
    "\n",
    "Model Diagnostics:\n",
    "Omnibus and Jaquar Berra: Residulas are not normally distributed\n",
    "Durbin Watson value:2.25 check autocorrelation =2 no autocorrelation <2 +ve autocorrelation >2 -ve autocorrelation\n",
    "There is no autocorrelation since the value is closer to 2 cond.No.:454\n",
    ">30 multicollinearity\n",
    "There exists multicolinearity"
   ]
  },
  {
   "cell_type": "code",
   "execution_count": null,
   "id": "35a57704-1ab7-41b1-b52c-42775181c9f8",
   "metadata": {},
   "outputs": [],
   "source": [
    "#normality plot\n",
    "fig,ax=plt.subplots(1,2,figsize=(18,8))\n",
    "sm.qqplot(residuals,line='45',fit=True,ax=ax[0])\n",
    "ax[0].set_title('QQ Plot')\n",
    "sns.histplot(residuals,kde=True,ax=ax[1])\n",
    "ax[1].set_title('Histogram')\n",
    "plt.show()"
   ]
  },
  {
   "cell_type": "code",
   "execution_count": null,
   "id": "0b77bc2d-b4d9-4525-b31d-9d024efb1c8f",
   "metadata": {},
   "outputs": [],
   "source": [
    "X_train,X_test,Y_train,Y_test=train_test_split(X,Y,test_size=0.2,random_state=42)\n",
    "print(X_train.shape)\n",
    "print(X_test.shape)\n",
    "print(Y_train.shape)\n",
    "print(Y_test.shape)"
   ]
  },
  {
   "cell_type": "code",
   "execution_count": null,
   "id": "d52f6d5c-b7ff-4de7-8646-6110e7114068",
   "metadata": {},
   "outputs": [],
   "source": [
    "model_lin=LinearRegression()\n",
    "model_lin.fit(X_train,Y_train)\n",
    "y_pred=model_lin.predict(X_test) "
   ]
  },
  {
   "cell_type": "code",
   "execution_count": null,
   "id": "7b5c0fdf-4ec9-4dda-8e75-06e7585e4a57",
   "metadata": {},
   "outputs": [],
   "source": [
    "model_lin.intercept_"
   ]
  },
  {
   "cell_type": "code",
   "execution_count": null,
   "id": "6d944148-812b-464f-b9e6-8c599ef8c21b",
   "metadata": {},
   "outputs": [],
   "source": [
    "model_lin.coef_"
   ]
  },
  {
   "cell_type": "code",
   "execution_count": null,
   "id": "d5bde90d-11ad-4d7a-9c06-69f77f8d03ba",
   "metadata": {},
   "outputs": [],
   "source": [
    "r2=r2_score(Y_test,y_pred)\n",
    "print('R Squared is',r2)\n",
    "mse=mean_squared_error(Y_test,y_pred)\n",
    "print('MSE',mse)\n",
    "mae=mean_absolute_error(Y_test,y_pred)\n",
    "print('MAE',mae)"
   ]
  },
  {
   "cell_type": "code",
   "execution_count": null,
   "id": "2c501a28-eb5d-4061-9093-9e13eeb3ff38",
   "metadata": {},
   "outputs": [],
   "source": [
    "rmse=np.sqrt(mse)\n",
    "print('RMSE',rmse)"
   ]
  },
  {
   "cell_type": "code",
   "execution_count": null,
   "id": "911ba9db-79c6-4923-a7b7-e0dd38748abc",
   "metadata": {},
   "outputs": [],
   "source": [
    "sns.scatterplot(x=predictions,y=residuals)\n",
    "plt.axhline(y=0,color='r',linestyle='--')\n",
    "plt.show()"
   ]
  },
  {
   "cell_type": "code",
   "execution_count": null,
   "id": "3e3418c4-8d01-4dbd-ac47-0c94eef273b6",
   "metadata": {},
   "outputs": [],
   "source": [
    "#K fold cross validation for limited dataset\n",
    "from sklearn.model_selection import cross_val_score,cross_val_predict\n",
    "cv_score=cross_val_score(LinearRegression(),X,Y,cv=5,\n",
    "                         scoring='neg_mean_squared_error')\n",
    "#scoreing -> r2 or explained_variance\n",
    "print(cv_score) # 10 scores\n",
    "print(cv_score.mean())"
   ]
  },
  {
   "cell_type": "code",
   "execution_count": null,
   "id": "33ed1c1b-d6e0-4883-ae5d-79f3d778cb12",
   "metadata": {},
   "outputs": [],
   "source": [
    "cv_pred=cross_val_predict(LinearRegression(),X,Y,cv=10)\n",
    "cv_pred.shape"
   ]
  },
  {
   "cell_type": "code",
   "execution_count": null,
   "id": "a6fa919b-48d4-47a6-9952-be83c5dd1df1",
   "metadata": {},
   "outputs": [],
   "source": [
    "from sklearn.linear_model import Ridge,Lasso\n",
    "model_ridge=Ridge(alpha=1.0)#multicolinearity\n",
    "model_ridge.fit(X_train,Y_train)\n",
    "y_pred_ridge=model_ridge.predict(X_test)\n",
    "r2=r2_score(Y_test,y_pred_ridge)\n",
    "print(r2)\n",
    "mse=mean_squared_error(Y_test,y_pred_ridge)\n",
    "print(mse)\n",
    "sns.scatterplot(x=y_pred_ridge,y=Y_test,color='red',label='Ridge Regression')"
   ]
  },
  {
   "cell_type": "code",
   "execution_count": null,
   "id": "7d88061d-8a3a-4a18-b955-b12ffe608142",
   "metadata": {},
   "outputs": [],
   "source": [
    "#high dimension data and perform feature selection by penalizing not important feature\n",
    "#Lasso\n",
    "model_lasso=Lasso(alpha=0.01)\n",
    "model_lasso.fit(X_train,Y_train)\n",
    "y_pred_lasso=model_lasso.predict(X_test)\n",
    "r2=r2_score(Y_test,y_pred_lasso)\n",
    "print(r2)\n",
    "mse=mean_squared_error(Y_test,y_pred_lasso)\n",
    "print(mse)\n",
    "sns.scatterplot(x=y_pred_lasso,y=Y_test,color='blue',label='Lasso')"
   ]
  },
  {
   "cell_type": "markdown",
   "id": "54aea5e8-a633-42ef-9f73-08e749aa2bb3",
   "metadata": {},
   "source": [
    "FEATURE SELECTION REGRESSION"
   ]
  },
  {
   "cell_type": "code",
   "execution_count": null,
   "id": "c58ebf9d-d09a-416f-8002-df435042b2af",
   "metadata": {},
   "outputs": [],
   "source": [
    "import pandas as pd\n",
    "import numpy as np\n",
    "from statsmodels.stats.outliers_influence import variance_inflation_factor\n",
    "from sklearn.feature_selection import f_regression,RFE"
   ]
  },
  {
   "cell_type": "code",
   "execution_count": null,
   "id": "7daeb731-2f86-4f9b-b375-0788a91c9f48",
   "metadata": {},
   "outputs": [],
   "source": [
    "df=pd.read_csv('Admission_Predict.csv')\n",
    "df.columns"
   ]
  },
  {
   "cell_type": "code",
   "execution_count": null,
   "id": "d6ca767b-5c21-4111-8d6b-e768a62efb0f",
   "metadata": {},
   "outputs": [],
   "source": [
    "data.info()"
   ]
  },
  {
   "cell_type": "code",
   "execution_count": null,
   "id": "92063387-559f-44e3-a230-ffa0f7b1b94c",
   "metadata": {},
   "outputs": [],
   "source": [
    "#clean the column\n",
    "df.columns=df.columns.str.strip()\n",
    "df.columns"
   ]
  },
  {
   "cell_type": "code",
   "execution_count": null,
   "id": "c9b76c3f-8aea-4eae-a5aa-0c4f3956a91d",
   "metadata": {},
   "outputs": [],
   "source": [
    "df.head()"
   ]
  },
  {
   "cell_type": "code",
   "execution_count": null,
   "id": "f89b81fe-03f2-4d55-9fb7-dfaefa903432",
   "metadata": {},
   "outputs": [],
   "source": [
    "import statsmodels.api as sm\n",
    "X=df.drop('Chance of Admit',axis=1)\n",
    "X_const=sm.add_constant(X)\n",
    "vif_features=pd.DataFrame()\n",
    "vif_features['features']=X_const.columns\n",
    "vif_features['VIF']= [variance_inflation_factor(X_const.values,i)\n",
    "                      for i in range(X_const.shape[1])]\n",
    "vif_features"
   ]
  },
  {
   "cell_type": "code",
   "execution_count": null,
   "id": "6f9ef007-937d-48a3-b8dd-9940be2b4dff",
   "metadata": {},
   "outputs": [],
   "source": [
    "from sklearn.model_selection import train_test_split\n",
    "Y=df['Chance of Admit']\n",
    "X_train,X_test,Y_train,Y_test=train_test_split(X,Y,test_size=0.2\n",
    "                                               ,random_state=42)\n",
    "\n",
    "print(X_train.shape)\n",
    "print(X_test.shape)\n",
    "print(Y_train.shape)\n",
    "print(Y_test.shape)"
   ]
  },
  {
   "cell_type": "code",
   "execution_count": null,
   "id": "656d21b1-6dcd-49c8-ac01-b5e129e7963c",
   "metadata": {},
   "outputs": [],
   "source": [
    "from sklearn.linear_model import LinearRegression\n",
    "#filter method ANOVA\n",
    "f_score,p_value=f_regression(X_train,Y_train)\n",
    "#wrapper method\n",
    "rfe=RFE(LinearRegression(),n_features_to_select=5)\n",
    "rfe.fit(X_train,Y_train)\n",
    "features_selected=pd.DataFrame({\n",
    "    'Features':X_train.columns,\n",
    "    'F_Score':f_score,\n",
    "    'P_Value':p_value,\n",
    "    'RFE Ranking':rfe.ranking_\n",
    "})\n",
    "features_selected.sort_values(by='RFE Ranking')"
   ]
  },
  {
   "cell_type": "code",
   "execution_count": null,
   "id": "13445fc7-6559-42bc-841f-311ed35a2eec",
   "metadata": {},
   "outputs": [],
   "source": [
    "print(X_train.columns)\n",
    "print(rfe.support_)"
   ]
  },
  {
   "cell_type": "code",
   "execution_count": null,
   "id": "54f92d0d-66db-41b2-b347-0f2a66c62da4",
   "metadata": {},
   "outputs": [],
   "source": [
    "import seaborn as sns\n",
    "import matplotlib.pyplot as plt\n",
    "sns.heatmap(df.corr(),annot=True,cmap='coolwarm',linewidths=1)\n",
    "plt.show()"
   ]
  },
  {
   "cell_type": "code",
   "execution_count": null,
   "id": "12b97fe3-4e1a-4687-a9c9-127c9b71a7f5",
   "metadata": {},
   "outputs": [],
   "source": []
  }
 ],
 "metadata": {
  "kernelspec": {
   "display_name": "Python 3 (ipykernel)",
   "language": "python",
   "name": "python3"
  },
  "language_info": {
   "codemirror_mode": {
    "name": "ipython",
    "version": 3
   },
   "file_extension": ".py",
   "mimetype": "text/x-python",
   "name": "python",
   "nbconvert_exporter": "python",
   "pygments_lexer": "ipython3",
   "version": "3.9.6"
  }
 },
 "nbformat": 4,
 "nbformat_minor": 5
}
