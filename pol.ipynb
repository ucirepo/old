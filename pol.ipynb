{
 "cells": [
  {
   "cell_type": "code",
   "execution_count": null,
   "id": "c967e562-118d-4578-9661-f9595e6cff6d",
   "metadata": {},
   "outputs": [],
   "source": [
    "import pandas as pd\n",
    "import numpy as np\n",
    "import seaborn as sns\n",
    "import matplotlib.pyplot as plt\n",
    "from sklearn.preprocessing import PolynomialFeatures\n",
    "from sklearn.linear_model import LinearRegression"
   ]
  },
  {
   "cell_type": "code",
   "execution_count": null,
   "id": "37b73e2f-b58d-4383-91b0-d0b208a981c8",
   "metadata": {},
   "outputs": [],
   "source": [
    "data=pd.read_csv('Position_Salaries.csv')\n",
    "data.info()"
   ]
  },
  {
   "cell_type": "code",
   "execution_count": null,
   "id": "07b943e1-21c8-492e-a83a-60b74723fc30",
   "metadata": {},
   "outputs": [],
   "source": [
    "data.describe(include='all')"
   ]
  },
  {
   "cell_type": "code",
   "execution_count": null,
   "id": "5845fc59-dd98-4e1b-96cb-57bb706fbdab",
   "metadata": {},
   "outputs": [],
   "source": [
    "data.drop('Position',axis=1,inplace=True)\n",
    "data.head()"
   ]
  },
  {
   "cell_type": "code",
   "execution_count": null,
   "id": "b11e1955-8c72-4d6b-883d-6ae6448bd581",
   "metadata": {},
   "outputs": [],
   "source": [
    "data.corr()"
   ]
  },
  {
   "cell_type": "code",
   "execution_count": null,
   "id": "e8101002-82cc-4efe-8a20-d0e4df73b0cf",
   "metadata": {},
   "outputs": [],
   "source": [
    "sns.scatterplot(data=data,x='Level',y='Salary')\n",
    "plt.show()"
   ]
  },
  {
   "cell_type": "code",
   "execution_count": null,
   "id": "6c258400-ec12-4f51-9c74-39130c9a8aa0",
   "metadata": {},
   "outputs": [],
   "source": [
    "X=data[['Level']]\n",
    "Y=data['Salary']\n",
    "X.shape"
   ]
  },
  {
   "cell_type": "code",
   "execution_count": null,
   "id": "746eac8b-e90e-439e-a54a-335f85ec902a",
   "metadata": {},
   "outputs": [],
   "source": [
    "poly=PolynomialFeatures(degree=4)\n",
    "x_poly=poly.fit_transform(X)"
   ]
  },
  {
   "cell_type": "code",
   "execution_count": null,
   "id": "ae197123-07db-4592-b4f5-c3b0d3b95a4d",
   "metadata": {},
   "outputs": [],
   "source": [
    "from sklearn.model_selection import cross_val_score,cross_val_predict\n",
    "from sklearn.linear_model import LinearRegression,Ridge\n",
    "from sklearn.metrics import r2_score,mean_squared_error"
   ]
  },
  {
   "cell_type": "code",
   "execution_count": null,
   "id": "8ac617fc-fcec-414a-ad0c-cc17b6d51f47",
   "metadata": {},
   "outputs": [],
   "source": [
    "score=cross_val_score(LinearRegression(),X=x_poly,y=Y,cv=5,\n",
    "                      scoring='neg_mean_squared_error')\n",
    "print(score)\n",
    "print(score.mean())"
   ]
  },
  {
   "cell_type": "code",
   "execution_count": null,
   "id": "7dc0dc9f-c663-42e5-b04d-093a181e215e",
   "metadata": {},
   "outputs": [],
   "source": [
    "y_pred=cross_val_predict(LinearRegression(),X=x_poly,y=Y,cv=5)\n",
    "sns.scatterplot(x=y_pred,y=Y,label='Polynomial Regression')"
   ]
  },
  {
   "cell_type": "code",
   "execution_count": null,
   "id": "f0b3fd92-089f-4db8-be6e-07d4e8c6d775",
   "metadata": {},
   "outputs": [],
   "source": [
    "from sklearn.metrics import r2_score,mean_squared_error\n",
    "r2=r2_score(Y,y_pred)\n",
    "print(r2)\n",
    "mse=mean_squared_error(Y,y_pred)\n",
    "print(mse)"
   ]
  },
  {
   "cell_type": "code",
   "execution_count": null,
   "id": "aef5bbe0-f0a8-4e8b-b98c-d929336d74f8",
   "metadata": {},
   "outputs": [],
   "source": [
    "from sklearn.preprocessing import StandardScaler\n",
    "ss=StandardScaler()\n",
    "x_scaled=ss.fit_transform(X)\n",
    "poly=PolynomialFeatures(degree=4)\n",
    "x_Poly=poly.fit_transform(x_scaled)\n",
    "lin_model=LinearRegression()\n",
    "lin_model.fit(x_poly,Y)\n",
    "y_pred=lin_model.predict(x_poly)\n",
    "r2=r2_score(Y,y_pred)\n",
    "print(r2)"
   ]
  }
 ],
 "metadata": {
  "kernelspec": {
   "display_name": "Python 3 (ipykernel)",
   "language": "python",
   "name": "python3"
  },
  "language_info": {
   "codemirror_mode": {
    "name": "ipython",
    "version": 3
   },
   "file_extension": ".py",
   "mimetype": "text/x-python",
   "name": "python",
   "nbconvert_exporter": "python",
   "pygments_lexer": "ipython3",
   "version": "3.9.6"
  }
 },
 "nbformat": 4,
 "nbformat_minor": 5
}
