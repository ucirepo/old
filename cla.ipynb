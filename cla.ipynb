{
 "cells": [
  {
   "cell_type": "code",
   "execution_count": null,
   "id": "7b2421e9-54a9-4266-a6a4-149ac5f5e085",
   "metadata": {},
   "outputs": [],
   "source": [
    "!pip install missingno"
   ]
  },
  {
   "cell_type": "code",
   "execution_count": null,
   "id": "f1a06aee-5f55-414f-8be9-cf15a69ef8ce",
   "metadata": {},
   "outputs": [],
   "source": [
    "import pandas as pd\n",
    "import missingno as msno\n",
    "data=pd.read_csv('titanic.csv')\n",
    "data.info()"
   ]
  },
  {
   "cell_type": "code",
   "execution_count": null,
   "id": "75e34b83-467d-4068-bacb-d47f87c058d8",
   "metadata": {},
   "outputs": [],
   "source": [
    "msno.matrix(data)"
   ]
  },
  {
   "cell_type": "code",
   "execution_count": null,
   "id": "7d8b65d4-2ee3-417a-87c3-b97d6769253f",
   "metadata": {},
   "outputs": [],
   "source": [
    "import seaborn as sns\n",
    "import matplotlib.pyplot as plt\n",
    "sns.histplot(data=data,x='Age',kde=True)\n",
    "plt.show()"
   ]
  },
  {
   "cell_type": "code",
   "execution_count": null,
   "id": "5fd52efb-a0dc-45a0-bd8e-a97de8695a1b",
   "metadata": {},
   "outputs": [],
   "source": [
    "data.describe(include='all')"
   ]
  },
  {
   "cell_type": "code",
   "execution_count": null,
   "id": "ef399de6-5201-4c36-8f43-fd2cc35707a1",
   "metadata": {},
   "outputs": [],
   "source": [
    "data.drop(['PassengerId','Name','Ticket','Fare'],axis=1,inplace=True)\n",
    "data.columns"
   ]
  },
  {
   "cell_type": "code",
   "execution_count": null,
   "id": "f7651b2e-34d6-4510-9544-d291ad6a48fe",
   "metadata": {},
   "outputs": [],
   "source": [
    "from sklearn.impute import SimpleImputer\n",
    "from sklearn.preprocessing import LabelEncoder\n",
    "sm=SimpleImputer(strategy='median') \n",
    "le=LabelEncoder()\n",
    "data['Embarked']=le.fit_transform(data[['Embarked']])\n",
    "si=SimpleImputer(strategy='most_frequent')data.head()\n",
    "data['Age']=sm.fit_transform(data[['Age']])\n",
    "data['Embarked']=si.fit_transform(data[['Embarked']])\n",
    "\n",
    "data['Sex']=le.fit_transform(data[['Sex']])"
   ]
  },
  {
   "cell_type": "code",
   "execution_count": null,
   "id": "f5dfdd1b-df50-4af0-b826-591e039112fd",
   "metadata": {},
   "outputs": [],
   "source": [
    "ss=SimpleImputer(strategy='most_frequent')\n",
    "data['Cabin']=le.fit_transform(data[['Cabin']])\n",
    "data['Cabin']=ss.fit_transform(data[['Cabin']])"
   ]
  },
  {
   "cell_type": "code",
   "execution_count": null,
   "id": "91fa38db-f5ae-4726-8ba0-e6d8589a0dd6",
   "metadata": {},
   "outputs": [],
   "source": [
    "data.head()"
   ]
  },
  {
   "cell_type": "code",
   "execution_count": null,
   "id": "c5ad74c9-4944-491e-97f8-99c829cb7a42",
   "metadata": {},
   "outputs": [],
   "source": [
    "from sklearn.feature_selection import SelectKBest,chi2,mutual_info_classif\n",
    "X=data.drop('Survived',axis=1)\n",
    "Y=data['Survived']"
   ]
  },
  {
   "cell_type": "code",
   "execution_count": null,
   "id": "78ace1f5-8063-4063-9e12-74df6a1f04a7",
   "metadata": {},
   "outputs": [],
   "source": [
    "skbest=SelectKBest(chi2,k='all').fit(X,Y).scores_\n",
    "minfo=mutual_info_classif(X,Y)\n",
    "missing_value_ratio=X.isnull().sum()/len(X)\n",
    "feature_selection=pd.DataFrame({\n",
    "    'Features':X.columns,\n",
    "    'chi2':skbest,\n",
    "    'minfo':minfo,\n",
    "    'missing_ratio':missing_value_ratio\n",
    "})\n",
    "feature_selection"
   ]
  },
  {
   "cell_type": "code",
   "execution_count": null,
   "id": "29df19d4-be6f-4af4-9ed9-741c685d72dd",
   "metadata": {},
   "outputs": [],
   "source": [
    "!pip install skfeature-chappers"
   ]
  },
  {
   "cell_type": "code",
   "execution_count": null,
   "id": "16315e58-beba-4c15-968d-8acc585ffe21",
   "metadata": {},
   "outputs": [],
   "source": [
    "from skfeature.function.similarity_based import fisher_score\n",
    "import numpy as np\n",
    "fscore=fisher_score.fisher_score(X.to_numpy(),Y.to_numpy())\n",
    "feature_fisherscore=sorted(zip(X.columns,fscore),key=lambda x:x[1],reverse=True)\n",
    "feature_fisherscore"
   ]
  },
  {
   "cell_type": "code",
   "execution_count": null,
   "id": "3c7b6ace-bf6a-4894-b337-d63aa0305bb6",
   "metadata": {},
   "outputs": [],
   "source": [
    "!pip install mlxtend"
   ]
  },
  {
   "cell_type": "code",
   "execution_count": null,
   "id": "94a748f9-71ec-4efd-b843-5fd86b9c1e31",
   "metadata": {},
   "outputs": [],
   "source": [
    "from sklearn.linear_model import LogisticRegression\n",
    "from sklearn.model_selection import train_test_split\n",
    "from sklearn.feature_selection import SequentialFeatureSelector as SFS\n",
    "from mlxtend.feature_selection import ExhaustiveFeatureSelector as EFS\n",
    "from sklearn.metrics import accuracy_score"
   ]
  },
  {
   "cell_type": "code",
   "execution_count": null,
   "id": "d4d892bb-c3b3-4761-a680-49501dcc2643",
   "metadata": {},
   "outputs": [],
   "source": [
    "X_train,X_test,Y_train,Y_test=train_test_split(X,Y,test_size=0.2,\n",
    "                                               random_state=42)"
   ]
  },
  {
   "cell_type": "code",
   "execution_count": null,
   "id": "5d494a4a-77b6-46c8-8218-455af8531893",
   "metadata": {},
   "outputs": [],
   "source": [
    "log_reg=LogisticRegression(max_iter=1000,random_state=42)"
   ]
  },
  {
   "cell_type": "code",
   "execution_count": null,
   "id": "ac5882cb-5f0e-4a0b-9d39-900f895fdf0a",
   "metadata": {},
   "outputs": [],
   "source": [
    "skf=SFS(estimator=log_reg,n_features_to_select='auto',\n",
    "       direction='forward',scoring='accuracy',cv=5)"
   ]
  },
  {
   "cell_type": "code",
   "execution_count": null,
   "id": "493ac1bb-1c2e-44d0-85b1-23fb177cc58e",
   "metadata": {},
   "outputs": [],
   "source": [
    "skf=skf.fit(X_train,Y_train)"
   ]
  },
  {
   "cell_type": "code",
   "execution_count": null,
   "id": "515a6376-bf3a-43ad-b23b-5e6a398841d8",
   "metadata": {},
   "outputs": [],
   "source": [
    "skf.n_features_to_select_"
   ]
  },
  {
   "cell_type": "code",
   "execution_count": null,
   "id": "d858741d-9685-4ef8-b7f4-a234aea9e1cd",
   "metadata": {},
   "outputs": [],
   "source": [
    "print(X_train.columns)\n",
    "print(skf.support_)"
   ]
  },
  {
   "cell_type": "code",
   "execution_count": null,
   "id": "009f5c0a-8f60-4a9d-aec0-496450656a69",
   "metadata": {},
   "outputs": [],
   "source": [
    "print(skf.n_features_in_)"
   ]
  },
  {
   "cell_type": "code",
   "execution_count": null,
   "id": "12f8f5e8-489e-4926-b841-29536fc74993",
   "metadata": {},
   "outputs": [],
   "source": [
    "efs=EFS(estimator=log_reg,min_features=1,\n",
    "       max_features=X_train.shape[1],\n",
    "       scoring='accuracy',\n",
    "       cv=5)\n",
    "efs=efs.fit(X_train,Y_train)"
   ]
  },
  {
   "cell_type": "code",
   "execution_count": null,
   "id": "171e5eed-98c0-4564-8fa1-4f2264ad5f75",
   "metadata": {},
   "outputs": [],
   "source": [
    "efs.best_feature_names_"
   ]
  },
  {
   "cell_type": "code",
   "execution_count": null,
   "id": "dbccb0e0-ca1d-453f-856a-7f18dc23522b",
   "metadata": {},
   "outputs": [],
   "source": [
    "efs.best_score_"
   ]
  },
  {
   "cell_type": "code",
   "execution_count": null,
   "id": "ba0c7639-bae8-4fa4-894e-c2388964cd9b",
   "metadata": {},
   "outputs": [],
   "source": [
    "from mlxtend.feature_selection import SequentialFeatureSelector as SFS\n",
    "sfs=SFS(estimator=log_reg,\n",
    "                             k_features='best',\n",
    "                             forward=True,\n",
    "                             floating=False,\n",
    "                             scoring='accuracy',\n",
    "                             cv=5)\n",
    "sfs=sfs.fit(X_train,Y_train)\n",
    "sfs.k_feature_names_"
   ]
  },
  {
   "cell_type": "code",
   "execution_count": null,
   "id": "c9ff5e48-e381-445b-ab22-2cd49c2cc670",
   "metadata": {},
   "outputs": [],
   "source": []
  }
 ],
 "metadata": {
  "kernelspec": {
   "display_name": "Python 3 (ipykernel)",
   "language": "python",
   "name": "python3"
  },
  "language_info": {
   "codemirror_mode": {
    "name": "ipython",
    "version": 3
   },
   "file_extension": ".py",
   "mimetype": "text/x-python",
   "name": "python",
   "nbconvert_exporter": "python",
   "pygments_lexer": "ipython3",
   "version": "3.9.6"
  }
 },
 "nbformat": 4,
 "nbformat_minor": 5
}
