{
 "cells": [
  {
   "cell_type": "code",
   "execution_count": null,
   "id": "2f15a33a-803b-4fbf-ad63-82f11a135aa6",
   "metadata": {},
   "outputs": [],
   "source": [
    "!pip install ucimlrepo"
   ]
  },
  {
   "cell_type": "code",
   "execution_count": null,
   "id": "a5e6e950-62d9-4122-90ed-8689684d6ef2",
   "metadata": {},
   "outputs": [],
   "source": [
    "from ucimlrepo import fetch_ucirepo\n",
    "data_cancer=fetch_ucirepo(id=17)\n",
    "X=data_cancer.data.features\n",
    "Y=data_cancer.data.targets\n",
    "X.info()\n",
    "print(Y.info())"
   ]
  },
  {
   "cell_type": "code",
   "execution_count": null,
   "id": "5b5b0dfc-aefa-4b8b-874e-c1c23f838574",
   "metadata": {},
   "outputs": [],
   "source": [
    "Y['Diagnosis'].unique()"
   ]
  },
  {
   "cell_type": "code",
   "execution_count": null,
   "id": "136e7036-45c5-40ef-a2e0-e5de1b5d038c",
   "metadata": {},
   "outputs": [],
   "source": [
    "X.isnull().sum()"
   ]
  },
  {
   "cell_type": "code",
   "execution_count": null,
   "id": "8da07711-641e-4bd7-ac4d-d8dce09cf5aa",
   "metadata": {},
   "outputs": [],
   "source": [
    "import pandas as pd\n",
    "import numpy as np\n",
    "from sklearn.preprocessing import LabelEncoder\n",
    "from sklearn.feature_selection import SelectKBest,chi2\n",
    "from sklearn.model_selection import train_test_split\n",
    "from sklearn.linear_model import LogisticRegression"
   ]
  },
  {
   "cell_type": "code",
   "execution_count": null,
   "id": "a7c1378a-02b6-48d2-a053-d991944d5d39",
   "metadata": {},
   "outputs": [],
   "source": [
    "le=LabelEncoder()\n",
    "y_encoded=le.fit_transform(Y)\n",
    "X_train,X_test,Y_train,Y_test=train_test_split(X,y_encoded,test_size=0.2,\n",
    "                                               random_state=42)"
   ]
  },
  {
   "cell_type": "code",
   "execution_count": null,
   "id": "037352b0-00b3-41a6-8eca-38da3b0e0687",
   "metadata": {},
   "outputs": [],
   "source": [
    "select_features=SelectKBest(chi2,k=10)\n",
    "X_train_selected=select_features.fit_transform(X_train,Y_train)\n",
    "X_test_selected=select_features.transform(X_test)"
   ]
  },
  {
   "cell_type": "code",
   "execution_count": null,
   "id": "822bba5d-4e50-44ec-886a-e385dacbf6c0",
   "metadata": {},
   "outputs": [],
   "source": [
    "print(X_train_selected.shape)\n",
    "print(X_test_selected.shape)"
   ]
  },
  {
   "cell_type": "code",
   "execution_count": null,
   "id": "918dc302-94e1-46b2-8100-18b6a551a0f8",
   "metadata": {},
   "outputs": [],
   "source": [
    "lr_model=LogisticRegression(\n",
    "penalty='l1',#elasticnet l1 and l2\n",
    "C=1.0,\n",
    "    fit_intercept=True,\n",
    "    random_state=None,\n",
    "    solver='liblinear',\n",
    "    max_iter=1000,\n",
    "    multi_class='auto',\n",
    "    verbose=0,\n",
    "    warm_start=False,\n",
    "    n_jobs=None\n",
    ")"
   ]
  },
  {
   "cell_type": "code",
   "execution_count": null,
   "id": "a11b4387-b106-4d00-a09c-f48f6f5a2111",
   "metadata": {},
   "outputs": [],
   "source": [
    "lr_model.fit(X_train,Y_train)"
   ]
  },
  {
   "cell_type": "code",
   "execution_count": null,
   "id": "34f9aa40-76d7-4450-931e-f3d253f0bfee",
   "metadata": {},
   "outputs": [],
   "source": [
    "y_pred=lr_model.predict(X_test)"
   ]
  },
  {
   "cell_type": "code",
   "execution_count": null,
   "id": "ad310695-c97c-4265-8f6c-a4357765f26d",
   "metadata": {},
   "outputs": [],
   "source": [
    "from sklearn.metrics import classification_report,ConfusionMatrixDisplay,accuracy_score,confusion_matrix"
   ]
  },
  {
   "cell_type": "code",
   "execution_count": null,
   "id": "17b731a7-41a4-4cac-8612-27a5ee081128",
   "metadata": {},
   "outputs": [],
   "source": [
    "accuracy=accuracy_score(Y_test,y_pred)\n",
    "print(\"Accuracy is:\",accuracy)"
   ]
  },
  {
   "cell_type": "code",
   "execution_count": null,
   "id": "01f014a5-ea8d-49bb-9b84-ccbbf302f4f1",
   "metadata": {},
   "outputs": [],
   "source": [
    "print(classification_report(Y_test,y_pred))"
   ]
  },
  {
   "cell_type": "code",
   "execution_count": null,
   "id": "dc71182b-38e1-4f18-a687-aeb02485f570",
   "metadata": {},
   "outputs": [],
   "source": [
    "cm=confusion_matrix(Y_test,y_pred)\n",
    "cmat=ConfusionMatrixDisplay(cm,display_labels=np.unique(Y).tolist())\n",
    "cmat.plot()"
   ]
  },
  {
   "cell_type": "code",
   "execution_count": null,
   "id": "afe44615-8fa1-4abf-ba1a-335f87fda413",
   "metadata": {},
   "outputs": [],
   "source": [
    "from sklearn.tree import DecisionTreeClassifier,plot_tree\n",
    "features_data=X.columns\n",
    "dt=DecisionTreeClassifier(\n",
    "criterion='gini',#or entropy\n",
    "splitter='best',#None\n",
    "max_depth=10,#or integer\n",
    "min_samples_split=2,#minimum 2 sample to decide\n",
    "min_samples_leaf=1,\n",
    "max_features=None, #auto,sqrt,l2,None\n",
    "random_state=None)"
   ]
  },
  {
   "cell_type": "code",
   "execution_count": null,
   "id": "c9eb86dd-c68d-45dc-8c55-e081fedb5742",
   "metadata": {},
   "outputs": [],
   "source": [
    "X_train,X_test,Y_train,Y_test=train_test_split(X,y_encoded,test_size=0.2,random_state=42)\n",
    "X_train.shape"
   ]
  },
  {
   "cell_type": "code",
   "execution_count": null,
   "id": "f3958279-9130-4613-8818-edd3912d757e",
   "metadata": {},
   "outputs": [],
   "source": [
    "dt.fit(X_train,Y_train)"
   ]
  },
  {
   "cell_type": "code",
   "execution_count": null,
   "id": "75836e73-7370-4b73-b0c1-b1572f84ca4c",
   "metadata": {},
   "outputs": [],
   "source": [
    "y_pred_dt=dt.predict(X_test)"
   ]
  },
  {
   "cell_type": "code",
   "execution_count": null,
   "id": "de1b3d79-8e76-4005-b7a7-7957269bb850",
   "metadata": {},
   "outputs": [],
   "source": [
    "print(classification_report(Y_test,y_pred_dt))\n",
    "print(accuracy_score(Y_test,y_pred_dt))"
   ]
  },
  {
   "cell_type": "code",
   "execution_count": null,
   "id": "dc1735e1-2354-4664-b370-dfcb35486ce8",
   "metadata": {},
   "outputs": [],
   "source": [
    "from sklearn.tree import plot_tree\n",
    "import matplotlib.pyplot as plt\n",
    "import numpy as np\n",
    "plt.figure(figsize=(28,10))\n",
    "plot_tree(dt,filled=True,feature_names=X_train.columns.tolist(),\n",
    "          class_names=np.unique(Y).tolist())\n",
    "plt.show()"
   ]
  },
  {
   "cell_type": "code",
   "execution_count": null,
   "id": "155ad2b1-58f0-41ce-af03-fff4b4c36986",
   "metadata": {},
   "outputs": [],
   "source": [
    "from sklearn.ensemble import RandomForestClassifier\n",
    "rf=RandomForestClassifier(\n",
    "    n_estimators=100, #number of trees smaller dataset with fewer features 50 Larger dataset or high dimension 200 or 500\n",
    "    criterion='gini', #default is gini or use entropy info gain dataset class imbalance or categorical features\n",
    "    max_depth=None, # small dataset 5 or 10 prevent overfitting larger dataset None\n",
    "    min_samples_split=2, # nosiy data 5 or 10\n",
    "    min_samples_leaf=1, #for most of the dataset\n",
    "    max_features='sqrt',#perform best split of features or log2 or fixed\n",
    "    bootstrap=True,#small dataset make it to be false\n",
    "    random_state=None    \n",
    "    )"
   ]
  },
  {
   "cell_type": "code",
   "execution_count": null,
   "id": "05e94771-bcc7-45eb-866c-4083c49b3ca3",
   "metadata": {},
   "outputs": [],
   "source": [
    "rf.fit(X_train,Y_train)\n",
    "rf_pred=rf.predict(X_test)"
   ]
  },
  {
   "cell_type": "code",
   "execution_count": null,
   "id": "23ac3af6-3f83-47fd-bcb3-954ac7c807d7",
   "metadata": {},
   "outputs": [],
   "source": [
    "important_feature=rf.feature_importances_\n",
    "print(important_feature)"
   ]
  },
  {
   "cell_type": "code",
   "execution_count": null,
   "id": "83e86fab-db51-4363-81b8-753311b33f9b",
   "metadata": {},
   "outputs": [],
   "source": [
    "indices=np.argsort(important_feature)[::-1]\n",
    "indices"
   ]
  },
  {
   "cell_type": "code",
   "execution_count": null,
   "id": "25488d37-53da-4cb8-92bc-a493606749a6",
   "metadata": {},
   "outputs": [],
   "source": [
    "X.columns[indices.tolist()]"
   ]
  },
  {
   "cell_type": "code",
   "execution_count": null,
   "id": "f2b59930-0917-4121-92d9-6b1b083514e3",
   "metadata": {},
   "outputs": [],
   "source": [
    "indices.tolist()\n",
    "col=[]\n",
    "for i in indices.tolist():\n",
    "    print(X.columns[i])\n",
    "    col.append(X.columns[i])"
   ]
  },
  {
   "cell_type": "code",
   "execution_count": null,
   "id": "ef52c208-b894-4ced-b241-cce039238f94",
   "metadata": {},
   "outputs": [],
   "source": [
    "plt.figure(figsize=(18,10))\n",
    "plt.title('Feature Importance')\n",
    "plt.bar(col,important_feature[indices],color='b',align='center')\n",
    "plt.xticks(rotation=90)\n",
    "plt.show()"
   ]
  },
  {
   "cell_type": "code",
   "execution_count": null,
   "id": "cf2aef30-6453-4edc-bd23-2eed8304c46c",
   "metadata": {},
   "outputs": [],
   "source": [
    "print(classification_report(Y_test,rf_pred))\n",
    "print(\"Accuracy score\", accuracy_score(Y_test,rf_pred))\n",
    "cm=confusion_matrix(Y_test,rf_pred)\n",
    "cmat=ConfusionMatrixDisplay(cm,display_labels=np.unique(Y).tolist())\n",
    "cmat.plot()"
   ]
  },
  {
   "cell_type": "code",
   "execution_count": null,
   "id": "76e627eb-add9-43fe-a8c6-6fd37292a8e0",
   "metadata": {},
   "outputs": [],
   "source": [
    "single_tree=rf.estimators_[1] #second tree to be visulaized\n",
    "plt.figure(figsize=(18,8))\n",
    "plot_tree(single_tree,filled=True,feature_names=X_train.columns.tolist(),\n",
    "         class_names=np.unique(Y).tolist())\n",
    "plt.show()"
   ]
  },
  {
   "cell_type": "code",
   "execution_count": null,
   "id": "33e64044-4fc0-4117-8300-f6cba8473593",
   "metadata": {},
   "outputs": [],
   "source": [
    "from sklearn.svm import SVC\n",
    "svc=SVC(C=1.0,\n",
    "       kernel='rbf',\n",
    "       degree=3,\n",
    "       gamma='scale',\n",
    "       coef0=0.0,\n",
    "       shrinking=True,\n",
    "       probability=False,\n",
    "       cache_size=200,\n",
    "       class_weight=None,#[0.2,0.4] or balanced\n",
    "        verbose=False,\n",
    "        max_iter=1000,\n",
    "        decision_function_shape='ovr',\n",
    "        break_ties=False,\n",
    "        random_state=None\n",
    "        )"
   ]
  },
  {
   "cell_type": "code",
   "execution_count": null,
   "id": "0234c010-d2c4-4975-a9e5-6954df1ccd69",
   "metadata": {},
   "outputs": [],
   "source": [
    "from sklearn.preprocessing import StandardScaler\n",
    "sc=StandardScaler()\n",
    "X_train_scaled=sc.fit_transform(X_train_selected)\n",
    "X_test_scaled=sc.transform(X_test_selected)\n",
    "svc.fit(X_train_scaled,Y_train)\n",
    "s_pred=svc.predict(X_test_scaled)\n",
    "print(confusion_matrix(Y_test,s_pred))\n",
    "print(accuracy_score(Y_test,s_pred))"
   ]
  },
  {
   "cell_type": "code",
   "execution_count": null,
   "id": "36603b73-1504-41f0-849e-c955bfae0305",
   "metadata": {},
   "outputs": [],
   "source": []
  }
 ],
 "metadata": {
  "kernelspec": {
   "display_name": "Python 3 (ipykernel)",
   "language": "python",
   "name": "python3"
  },
  "language_info": {
   "codemirror_mode": {
    "name": "ipython",
    "version": 3
   },
   "file_extension": ".py",
   "mimetype": "text/x-python",
   "name": "python",
   "nbconvert_exporter": "python",
   "pygments_lexer": "ipython3",
   "version": "3.9.6"
  }
 },
 "nbformat": 4,
 "nbformat_minor": 5
}
